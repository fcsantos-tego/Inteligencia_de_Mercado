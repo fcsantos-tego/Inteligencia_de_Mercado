{
 "cells": [
  {
   "cell_type": "markdown",
   "metadata": {},
   "source": [
    "## Script que atualiza automaticamente as conexões de arquivos Excel"
   ]
  },
  {
   "cell_type": "code",
   "execution_count": 1,
   "metadata": {},
   "outputs": [],
   "source": [
    "import xlwings as xw\n",
    "import time"
   ]
  },
  {
   "cell_type": "code",
   "execution_count": 2,
   "metadata": {},
   "outputs": [],
   "source": [
    "# Função para apagar uma coluna específica\n",
    "def delete_column(sheet, column):\n",
    "    try:\n",
    "        sheet.range(f'{column}:{column}').delete()\n",
    "    except:\n",
    "        pass\n",
    "\n",
    "# Função para verificar se a célula de verificação contém o valor esperado\n",
    "def is_verification_complete(sheet, cell, verification_value):\n",
    "    try:\n",
    "        cell_value = sheet.range(cell).value\n",
    "        return cell_value == verification_value\n",
    "    except:\n",
    "        return False\n",
    "\n",
    "# Função para atualizar conexões e verificar a validação\n",
    "def update_and_verify(file_path, sheet_name, verification_cell, verification_value, column_to_delete):\n",
    "    app = xw.App(visible=False)\n",
    "    \n",
    "    try:\n",
    "        wb = app.books.open(file_path)\n",
    "        sheet = wb.sheets[sheet_name]\n",
    "        delete_column(sheet, column_to_delete)\n",
    "        wb.api.RefreshAll()\n",
    "    \n",
    "        # Loop para verificar a célula de verificação\n",
    "        while not is_verification_complete(sheet, verification_cell, verification_value):\n",
    "            time.sleep(15)\n",
    "    \n",
    "        delete_column(sheet, column_to_delete)\n",
    "        wb.save()\n",
    "        wb.close()\n",
    "    finally:\n",
    "        app.quit()"
   ]
  },
  {
   "cell_type": "code",
   "execution_count": 3,
   "metadata": {},
   "outputs": [],
   "source": [
    "# fVendas\n",
    "update_and_verify(\n",
    "    file_path=r\"Y:\\Vitale\\Automação_Extração_Relatórios\\Automação_fVendas_RH\\fVendas_BI.xlsx\",\n",
    "    sheet_name=\"fVendas_BI\",\n",
    "    verification_cell=\"Y1\",\n",
    "    verification_value=\"Validacao_Atualizacao\",\n",
    "    column_to_delete=\"Y\"\n",
    ")"
   ]
  },
  {
   "cell_type": "code",
   "execution_count": null,
   "metadata": {},
   "outputs": [],
   "source": [
    "# Relação Folha Vitale\n",
    "update_and_verify(\n",
    "    file_path=r\"Y:\\Vitale\\Automação_Extração_Relatórios\\Automação_fVendas_RH\\RELAÇÃO FOLHA VITALE.xlsx\",\n",
    "    sheet_name=\"fVendasTabela\",\n",
    "    verification_cell=\"H1\",\n",
    "    verification_value=\"Validacao_Atualizacao\",\n",
    "    column_to_delete=\"H\"\n",
    ")"
   ]
  }
 ],
 "metadata": {
  "kernelspec": {
   "display_name": "base",
   "language": "python",
   "name": "python3"
  },
  "language_info": {
   "codemirror_mode": {
    "name": "ipython",
    "version": 3
   },
   "file_extension": ".py",
   "mimetype": "text/x-python",
   "name": "python",
   "nbconvert_exporter": "python",
   "pygments_lexer": "ipython3",
   "version": "3.12.4"
  }
 },
 "nbformat": 4,
 "nbformat_minor": 2
}
