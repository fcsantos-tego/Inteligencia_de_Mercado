{
 "cells": [
  {
   "cell_type": "markdown",
   "metadata": {},
   "source": [
    "# Análise de Regressão Linear: Taxa Selic vs Venda Total de Imóveis na RMR\n",
    "\n",
    "### Objetivo\n",
    "#### Este notebook tem como objetivo realizar uma análise de regressão linear simples para investigar a relação entre a Taxa Selic anualizada e a venda total de imóveis residenciais na Região Metropolitana do Recife (RMR). A análise busca validar a hipótese de que variações na Taxa Selic influenciam negativamente o mercado imobiliário, conforme postulado pela teoria econômica.\n",
    "\n",
    "### Intervalo Temporal dos Dados\n",
    "##### Os dados utilizados neste estudo são compostos por pontos mensais para ambas as séries:\n",
    "- Venda Total de imóveis residenciais na RMR\n",
    "- Taxa Selic anualizada\n",
    "\n",
    "###### Os dados sobre a venda total de imóveis residenciais na RMR foram retirados dos relatórios do Índice IVV elaborado pela FIEPE.\n",
    "###### Os dados da Taxa Selic anualizada foram retirados do Banco Central do Brasil.\n",
    "\n",
    "\n"
   ]
  },
  {
   "cell_type": "code",
   "execution_count": 43,
   "metadata": {},
   "outputs": [],
   "source": [
    "# Importando as bibliotecas necessárias e carregando a base de dados\n",
    "import pandas as pd\n",
    "import matplotlib.pyplot as plt\n",
    "import statsmodels.api as sm\n",
    "from sklearn.linear_model import LinearRegression\n",
    "from sklearn.metrics import r2_score\n",
    "\n",
    "file_path = r\"C:\\Users\\felipe.santos\\Documents\\Estudo\\Estatística\\Demanda por Imóveis\\Regressão Selic.csv\"\n",
    "df = pd.read_csv(file_path, sep=';', decimal=',')"
   ]
  },
  {
   "cell_type": "code",
   "execution_count": 44,
   "metadata": {},
   "outputs": [
    {
     "name": "stdout",
     "output_type": "stream",
     "text": [
      "<class 'pandas.core.frame.DataFrame'>\n",
      "RangeIndex: 157 entries, 0 to 156\n",
      "Data columns (total 3 columns):\n",
      " #   Column                 Non-Null Count  Dtype  \n",
      "---  ------                 --------------  -----  \n",
      " 0   Data                   138 non-null    object \n",
      " 1   Venda Total            138 non-null    float64\n",
      " 2   Taxa Selic Anualizada  138 non-null    float64\n",
      "dtypes: float64(2), object(1)\n",
      "memory usage: 3.8+ KB\n"
     ]
    },
    {
     "data": {
      "text/html": [
       "<div>\n",
       "<style scoped>\n",
       "    .dataframe tbody tr th:only-of-type {\n",
       "        vertical-align: middle;\n",
       "    }\n",
       "\n",
       "    .dataframe tbody tr th {\n",
       "        vertical-align: top;\n",
       "    }\n",
       "\n",
       "    .dataframe thead th {\n",
       "        text-align: right;\n",
       "    }\n",
       "</style>\n",
       "<table border=\"1\" class=\"dataframe\">\n",
       "  <thead>\n",
       "    <tr style=\"text-align: right;\">\n",
       "      <th></th>\n",
       "      <th>Data</th>\n",
       "      <th>Venda Total</th>\n",
       "      <th>Taxa Selic Anualizada</th>\n",
       "    </tr>\n",
       "  </thead>\n",
       "  <tbody>\n",
       "    <tr>\n",
       "      <th>0</th>\n",
       "      <td>01/09/2012</td>\n",
       "      <td>702.0</td>\n",
       "      <td>0.0739</td>\n",
       "    </tr>\n",
       "    <tr>\n",
       "      <th>1</th>\n",
       "      <td>01/10/2012</td>\n",
       "      <td>552.0</td>\n",
       "      <td>0.0739</td>\n",
       "    </tr>\n",
       "    <tr>\n",
       "      <th>2</th>\n",
       "      <td>01/11/2012</td>\n",
       "      <td>786.0</td>\n",
       "      <td>0.0714</td>\n",
       "    </tr>\n",
       "    <tr>\n",
       "      <th>3</th>\n",
       "      <td>01/12/2012</td>\n",
       "      <td>803.0</td>\n",
       "      <td>0.0714</td>\n",
       "    </tr>\n",
       "    <tr>\n",
       "      <th>4</th>\n",
       "      <td>01/01/2013</td>\n",
       "      <td>701.0</td>\n",
       "      <td>0.0729</td>\n",
       "    </tr>\n",
       "  </tbody>\n",
       "</table>\n",
       "</div>"
      ],
      "text/plain": [
       "         Data  Venda Total  Taxa Selic Anualizada\n",
       "0  01/09/2012        702.0                 0.0739\n",
       "1  01/10/2012        552.0                 0.0739\n",
       "2  01/11/2012        786.0                 0.0714\n",
       "3  01/12/2012        803.0                 0.0714\n",
       "4  01/01/2013        701.0                 0.0729"
      ]
     },
     "execution_count": 44,
     "metadata": {},
     "output_type": "execute_result"
    }
   ],
   "source": [
    "# Avaliando se há valores nulos, os tipos de dados das colunas e as primeiras linhas do dataset para garantir que a importação foi feita corretamente\n",
    "\n",
    "df.info()\n",
    "df.head()"
   ]
  },
  {
   "cell_type": "code",
   "execution_count": 45,
   "metadata": {},
   "outputs": [
    {
     "data": {
      "text/plain": [
       "Data                     19\n",
       "Venda Total              19\n",
       "Taxa Selic Anualizada    19\n",
       "dtype: int64"
      ]
     },
     "execution_count": 45,
     "metadata": {},
     "output_type": "execute_result"
    }
   ],
   "source": [
    "# Confirmando a quantidade de valores nulos por coluna do dataset\n",
    "df.isnull().sum()"
   ]
  },
  {
   "cell_type": "code",
   "execution_count": 46,
   "metadata": {},
   "outputs": [
    {
     "data": {
      "text/html": [
       "<div>\n",
       "<style scoped>\n",
       "    .dataframe tbody tr th:only-of-type {\n",
       "        vertical-align: middle;\n",
       "    }\n",
       "\n",
       "    .dataframe tbody tr th {\n",
       "        vertical-align: top;\n",
       "    }\n",
       "\n",
       "    .dataframe thead th {\n",
       "        text-align: right;\n",
       "    }\n",
       "</style>\n",
       "<table border=\"1\" class=\"dataframe\">\n",
       "  <thead>\n",
       "    <tr style=\"text-align: right;\">\n",
       "      <th></th>\n",
       "      <th>Data</th>\n",
       "      <th>Venda Total</th>\n",
       "      <th>Taxa Selic Anualizada</th>\n",
       "    </tr>\n",
       "  </thead>\n",
       "  <tbody>\n",
       "    <tr>\n",
       "      <th>137</th>\n",
       "      <td>01/02/2024</td>\n",
       "      <td>92.0</td>\n",
       "      <td>0.1115</td>\n",
       "    </tr>\n",
       "    <tr>\n",
       "      <th>138</th>\n",
       "      <td>NaN</td>\n",
       "      <td>NaN</td>\n",
       "      <td>NaN</td>\n",
       "    </tr>\n",
       "    <tr>\n",
       "      <th>139</th>\n",
       "      <td>NaN</td>\n",
       "      <td>NaN</td>\n",
       "      <td>NaN</td>\n",
       "    </tr>\n",
       "    <tr>\n",
       "      <th>140</th>\n",
       "      <td>NaN</td>\n",
       "      <td>NaN</td>\n",
       "      <td>NaN</td>\n",
       "    </tr>\n",
       "    <tr>\n",
       "      <th>141</th>\n",
       "      <td>NaN</td>\n",
       "      <td>NaN</td>\n",
       "      <td>NaN</td>\n",
       "    </tr>\n",
       "    <tr>\n",
       "      <th>142</th>\n",
       "      <td>NaN</td>\n",
       "      <td>NaN</td>\n",
       "      <td>NaN</td>\n",
       "    </tr>\n",
       "    <tr>\n",
       "      <th>143</th>\n",
       "      <td>NaN</td>\n",
       "      <td>NaN</td>\n",
       "      <td>NaN</td>\n",
       "    </tr>\n",
       "    <tr>\n",
       "      <th>144</th>\n",
       "      <td>NaN</td>\n",
       "      <td>NaN</td>\n",
       "      <td>NaN</td>\n",
       "    </tr>\n",
       "    <tr>\n",
       "      <th>145</th>\n",
       "      <td>NaN</td>\n",
       "      <td>NaN</td>\n",
       "      <td>NaN</td>\n",
       "    </tr>\n",
       "    <tr>\n",
       "      <th>146</th>\n",
       "      <td>NaN</td>\n",
       "      <td>NaN</td>\n",
       "      <td>NaN</td>\n",
       "    </tr>\n",
       "    <tr>\n",
       "      <th>147</th>\n",
       "      <td>NaN</td>\n",
       "      <td>NaN</td>\n",
       "      <td>NaN</td>\n",
       "    </tr>\n",
       "    <tr>\n",
       "      <th>148</th>\n",
       "      <td>NaN</td>\n",
       "      <td>NaN</td>\n",
       "      <td>NaN</td>\n",
       "    </tr>\n",
       "    <tr>\n",
       "      <th>149</th>\n",
       "      <td>NaN</td>\n",
       "      <td>NaN</td>\n",
       "      <td>NaN</td>\n",
       "    </tr>\n",
       "    <tr>\n",
       "      <th>150</th>\n",
       "      <td>NaN</td>\n",
       "      <td>NaN</td>\n",
       "      <td>NaN</td>\n",
       "    </tr>\n",
       "    <tr>\n",
       "      <th>151</th>\n",
       "      <td>NaN</td>\n",
       "      <td>NaN</td>\n",
       "      <td>NaN</td>\n",
       "    </tr>\n",
       "    <tr>\n",
       "      <th>152</th>\n",
       "      <td>NaN</td>\n",
       "      <td>NaN</td>\n",
       "      <td>NaN</td>\n",
       "    </tr>\n",
       "    <tr>\n",
       "      <th>153</th>\n",
       "      <td>NaN</td>\n",
       "      <td>NaN</td>\n",
       "      <td>NaN</td>\n",
       "    </tr>\n",
       "    <tr>\n",
       "      <th>154</th>\n",
       "      <td>NaN</td>\n",
       "      <td>NaN</td>\n",
       "      <td>NaN</td>\n",
       "    </tr>\n",
       "    <tr>\n",
       "      <th>155</th>\n",
       "      <td>NaN</td>\n",
       "      <td>NaN</td>\n",
       "      <td>NaN</td>\n",
       "    </tr>\n",
       "    <tr>\n",
       "      <th>156</th>\n",
       "      <td>NaN</td>\n",
       "      <td>NaN</td>\n",
       "      <td>NaN</td>\n",
       "    </tr>\n",
       "  </tbody>\n",
       "</table>\n",
       "</div>"
      ],
      "text/plain": [
       "           Data  Venda Total  Taxa Selic Anualizada\n",
       "137  01/02/2024         92.0                 0.1115\n",
       "138         NaN          NaN                    NaN\n",
       "139         NaN          NaN                    NaN\n",
       "140         NaN          NaN                    NaN\n",
       "141         NaN          NaN                    NaN\n",
       "142         NaN          NaN                    NaN\n",
       "143         NaN          NaN                    NaN\n",
       "144         NaN          NaN                    NaN\n",
       "145         NaN          NaN                    NaN\n",
       "146         NaN          NaN                    NaN\n",
       "147         NaN          NaN                    NaN\n",
       "148         NaN          NaN                    NaN\n",
       "149         NaN          NaN                    NaN\n",
       "150         NaN          NaN                    NaN\n",
       "151         NaN          NaN                    NaN\n",
       "152         NaN          NaN                    NaN\n",
       "153         NaN          NaN                    NaN\n",
       "154         NaN          NaN                    NaN\n",
       "155         NaN          NaN                    NaN\n",
       "156         NaN          NaN                    NaN"
      ]
     },
     "execution_count": 46,
     "metadata": {},
     "output_type": "execute_result"
    }
   ],
   "source": [
    "# Garantindo que os valores nulos são de fato os últimos do dataset por conta de alguma falha na importação da base\n",
    "df.tail(20)"
   ]
  },
  {
   "cell_type": "code",
   "execution_count": 47,
   "metadata": {},
   "outputs": [],
   "source": [
    "# Removendo os valores nulos irrelevantes para que não atrapalhem a modelagem da regressão\n",
    "df = df.dropna()"
   ]
  },
  {
   "cell_type": "code",
   "execution_count": 48,
   "metadata": {},
   "outputs": [
    {
     "name": "stdout",
     "output_type": "stream",
     "text": [
      "<class 'pandas.core.frame.DataFrame'>\n",
      "Index: 138 entries, 0 to 137\n",
      "Data columns (total 3 columns):\n",
      " #   Column                 Non-Null Count  Dtype  \n",
      "---  ------                 --------------  -----  \n",
      " 0   Data                   138 non-null    object \n",
      " 1   Venda Total            138 non-null    float64\n",
      " 2   Taxa Selic Anualizada  138 non-null    float64\n",
      "dtypes: float64(2), object(1)\n",
      "memory usage: 4.3+ KB\n"
     ]
    }
   ],
   "source": [
    "# Confirmando que o tratamento foi feito corretamente\n",
    "df.info()"
   ]
  },
  {
   "cell_type": "markdown",
   "metadata": {},
   "source": [
    "### Nesta etapa do código, defini as variáveis do modelo de regressão linear simples:\n",
    "\n",
    "- Variável dependente (Y): Venda Total de imóveis residenciais na RMR. Esta é a variável que quero explicar.\n",
    "- Variável independente (X): Taxa Selic anualizada. Esta variável é utilizada para investigar como suas variações influenciam a venda total de imóveis.\n",
    "\n",
    "### Além disso, estou calculando as seguintes métricas de desempenho do modelo:\n",
    "\n",
    "- R² (Coeficiente de Determinação):\n",
    "###### Representa a proporção da variação na série de vendas de imóveis que é explicada pela Taxa Selic.\n",
    "\n",
    "- P-Value (Valor-P):\n",
    "###### Avalia a significância estatística da relação entre a Taxa Selic e a Venda Total.\n",
    "###### Um valor-P baixo (geralmente menor que 0,05) indica que a variável independente possui uma relação estatisticamente significativa com a variável dependente, ou seja, é improvável que a relação observada tenha ocorrido por acaso.\n"
   ]
  },
  {
   "cell_type": "code",
   "execution_count": 49,
   "metadata": {},
   "outputs": [],
   "source": [
    "# X: Variável independente (Taxa Selic Anualizada), Y: Variável dependente (Venda Total)\n",
    "X = df['Taxa Selic Anualizada'].values.reshape(-1, 1)\n",
    "Y = df['Venda Total'].values\n",
    "\n",
    "modelo = LinearRegression()\n",
    "modelo.fit(X, Y)\n",
    "\n",
    "# Previsão dos valores\n",
    "Y_pred = modelo.predict(X)\n",
    "\n",
    "# Calculando o R²\n",
    "r2 = r2_score(Y, Y_pred)\n",
    "\n",
    "\n",
    "X_sm = sm.add_constant(X)  # Adiciona constante para o intercepto\n",
    "modelo_sm = sm.OLS(Y, X_sm).fit()\n",
    "\n",
    "# Calculando o P-Value\n",
    "p_values = modelo_sm.pvalues[1]\n"
   ]
  },
  {
   "cell_type": "code",
   "execution_count": 50,
   "metadata": {},
   "outputs": [
    {
     "data": {
      "image/png": "[encoded data removed]",
      "text/plain": [
       "<Figure size 1000x600 with 1 Axes>"
      ]
     },
     "metadata": {},
     "output_type": "display_data"
    },
    {
     "data": {
      "text/plain": [
       "(0.1525774362155059, 2.1747754391069573e-06)"
      ]
     },
     "execution_count": 50,
     "metadata": {},
     "output_type": "execute_result"
    }
   ],
   "source": [
    "# Plotar o gráfico de dispersão com a linha de regressão\n",
    "plt.figure(figsize=(10, 6))\n",
    "plt.scatter(X, Y, color='blue', label='Dados reais')\n",
    "plt.plot(X, Y_pred, color='red', linewidth=2, label='Linha de regressão')\n",
    "plt.title('Regressão Linear: Venda Total vs Taxa Selic Anualizada')\n",
    "plt.xlabel('Taxa Selic Anualizada')\n",
    "plt.ylabel('Venda Total')\n",
    "plt.legend()\n",
    "plt.grid()\n",
    "plt.show()\n",
    "\n",
    "# Exibir os resultados\n",
    "r2, p_values"
   ]
  },
  {
   "cell_type": "markdown",
   "metadata": {},
   "source": [
    "## Conclusão\n",
    "\n",
    "##### Apesar do baixo valor de R² (15,25%), o P-Value extremamente baixo indica que é improvável não existir uma relação negativa estatisticamente significativa entre a Taxa Selic e a venda total de imóveis na RMR. Esse resultado está em conformidade com a teoria econômica, pois a Taxa Selic influencia diretamente o custo do crédito imobiliário.\n",
    "\n",
    "##### A análise sugere que aumentos na Taxa Selic tendem a reduzir as vendas de imóveis, mas outros fatores não capturados pelo modelo podem explicar a variabilidade restante (soma dos quadrados dos resíduos), Assim, para aprimorar o modelo, seria interessante incluir parâmetros regionais relevantes, como:\n",
    "- Taxa de desemprego\n",
    "- Índice SINAPI (custo médio da construção civil por m²)\n",
    "- Renda média da população\n",
    "\n",
    "##### Além disso, recomenda-se decompor a série temporal para identificar sazonalidade, tendências e ciclos. Também seria relevante investigar se há algum lag (atraso) entre as variações na Taxa Selic e o impacto efetivo na demanda por imóveis."
   ]
  }
 ],
 "metadata": {
  "kernelspec": {
   "display_name": "base",
   "language": "python",
   "name": "python3"
  },
  "language_info": {
   "codemirror_mode": {
    "name": "ipython",
    "version": 3
   },
   "file_extension": ".py",
   "mimetype": "text/x-python",
   "name": "python",
   "nbconvert_exporter": "python",
   "pygments_lexer": "ipython3",
   "version": "3.12.4"
  }
 },
 "nbformat": 4,
 "nbformat_minor": 2
}
